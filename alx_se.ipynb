{
 "cells": [
  {
   "cell_type": "markdown",
   "metadata": {},
   "source": [
    "#### Task 0. Being a square keeps you from going around in circles.\n",
    "To develop an algorithm<br>\n",
    "<b>calculate the sum of squares of given input of numbers</b><br>\n",
    "You are going to create a flow chart and pseudo code.<br>\n",
    "→ Create the algorithm in a flow chart save a screen shot and upload it to google drive, and give access to anyone with the link<br>\n",
    "→ Create pseudo code in a google doc and and give access to anyone with the link"
   ]
  },
  {
   "cell_type": "code",
   "execution_count": null,
   "metadata": {},
   "outputs": [
    {
     "name": "stdout",
     "output_type": "stream",
     "text": [
      "29\n"
     ]
    }
   ],
   "source": [
    "num = input(\"Enter your list of numbers: \")\n",
    "num = num.split(\",\")\n",
    "sum = 0\n",
    "for i in num:\n",
    "   i = int(i)**2\n",
    "   sum = sum + i\n",
    "\n",
    "print(sum)"
   ]
  },
  {
   "cell_type": "markdown",
   "metadata": {},
   "source": [
    "#### Task 1. Order marches with weighty and measured strides. Disorder is always in a hurry.\n",
    "To develop an algorithm that<br>\n",
    "<b>reads in three numbers and writes them all in sorted order</b><br>\n",
    "you are going to create a flow chart and pseudo code.<br>\n",
    "Create the algorithm in a flow chart save a screen shot and upload it to google drive, and give access to anyone with the link<br>\n",
    "Create pseudo code in a google doc and and give access to anyone with the link"
   ]
  },
  {
   "cell_type": "code",
   "execution_count": 26,
   "metadata": {},
   "outputs": [
    {
     "name": "stdout",
     "output_type": "stream",
     "text": [
      "[2, 4, 7]\n"
     ]
    }
   ],
   "source": [
    "numbers = []\n",
    "for i in range(3):\n",
    "   num = int(input(num))\n",
    "   numbers.append(num)\n",
    "   # print(numbers)\n",
    "\n",
    "numbers = sorted(numbers)\n",
    "print(numbers)"
   ]
  },
  {
   "cell_type": "code",
   "execution_count": 27,
   "metadata": {},
   "outputs": [
    {
     "name": "stdout",
     "output_type": "stream",
     "text": [
      "[17, 21, 50]\n"
     ]
    }
   ],
   "source": [
    "n = 3\n",
    "numbers = []\n",
    "while n != 0:\n",
    "   num = int(input(num))\n",
    "   numbers.append(num)\n",
    "   n = n-1\n",
    "numbers = sorted(numbers)\n",
    "print(numbers)"
   ]
  },
  {
   "cell_type": "markdown",
   "metadata": {},
   "source": [
    "#### Task 2. It is not enough to run; one must start in time\n",
    "To develop an algorithm<br>\n",
    "<b>Calculate a running sum</b><br>\n",
    "A user will enter numbers that will be added to the sum and when a negative number is encountered, stop adding numbers and write out the final result<br>\n",
    "you are going to create a flow chart and pseudo code.<br>\n",
    "→ Create the algorithm in a flow chart save a screen shot and upload it to google drive, and give access to anyone with the link<br>\n",
    "→ Create pseudo code in a google doc and and give access to anyone with the link"
   ]
  },
  {
   "cell_type": "code",
   "execution_count": 30,
   "metadata": {},
   "outputs": [
    {
     "name": "stdout",
     "output_type": "stream",
     "text": [
      "Non-positive number -4 inputed \n",
      " Final Sum:  128\n"
     ]
    }
   ],
   "source": [
    "sum = 0\n",
    "num = int(input(\"Enter a number: \"))\n",
    "while num >= 0:\n",
    "   sum+=num\n",
    "   # print(\"Total so far: \",sum )\n",
    "   num = int(input(\"Enter another number: \"))\n",
    "print(\"Non-positive number\", num ,\"inputed\", \"\\n\",\"Final Sum: \",sum )"
   ]
  }
 ],
 "metadata": {
  "kernelspec": {
   "display_name": "Python 3.10.4 64-bit",
   "language": "python",
   "name": "python3"
  },
  "language_info": {
   "codemirror_mode": {
    "name": "ipython",
    "version": 3
   },
   "file_extension": ".py",
   "mimetype": "text/x-python",
   "name": "python",
   "nbconvert_exporter": "python",
   "pygments_lexer": "ipython3",
   "version": "3.10.4"
  },
  "orig_nbformat": 4,
  "vscode": {
   "interpreter": {
    "hash": "916dbcbb3f70747c44a77c7bcd40155683ae19c65e1c03b4aa3499c5328201f1"
   }
  }
 },
 "nbformat": 4,
 "nbformat_minor": 2
}
